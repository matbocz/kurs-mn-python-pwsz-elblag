{
 "cells": [
  {
   "cell_type": "code",
   "execution_count": 1,
   "metadata": {},
   "outputs": [
    {
     "name": "stdout",
     "output_type": "stream",
     "text": [
      "[(2, 11), (2, 17), (2, 5), (5, 11), (5, 17), (17, 11), (17, 5)]\n"
     ]
    }
   ],
   "source": [
    "#ZADANIE 1\n",
    "#Wygeneruj automatycznie nastepujace pary liczb:\n",
    "#[(2, 11), (2, 17), (2, 5), (5, 11), (5, 17), (17, 11), (17, 5)]\n",
    "#Zauwaz, ze wynikiem jest lista zawierajaca pary liczb zapisane w krotkach.\n",
    "#Napisz kod zgodnie z wytycznymi z wykladu.\n",
    "\n",
    "s1=[(x,y) for x in [2,5,17] for y in [11,17,5] if x!=y]\n",
    "print(s1)"
   ]
  },
  {
   "cell_type": "code",
   "execution_count": 2,
   "metadata": {},
   "outputs": [
    {
     "name": "stdout",
     "output_type": "stream",
     "text": [
      "i = 0.00000000000000000000\n",
      "x = 0.00000000000000000000\n",
      "Roznica = 0.00000000000000000000\n",
      "i = 0.10000000000000000555\n",
      "x = 0.10000000000000000555\n",
      "Roznica = 0.00000000000000000000\n",
      "i = 0.20000000000000001110\n",
      "x = 0.20000000000000001110\n",
      "Roznica = 0.00000000000000000000\n",
      "i = 0.30000000000000004441\n",
      "x = 0.30000000000000004441\n",
      "Roznica = 0.00000000000000000000\n",
      "i = 0.40000000000000002220\n",
      "x = 0.40000000000000002220\n",
      "Roznica = 0.00000000000000000000\n",
      "i = 0.50000000000000000000\n",
      "x = 0.50000000000000000000\n",
      "Roznica = 0.00000000000000000000\n",
      "i = 0.60000000000000008882\n",
      "x = 0.59999999999999997780\n",
      "Roznica = 0.00000000000000011102\n",
      "i = 0.70000000000000006661\n",
      "x = 0.69999999999999995559\n",
      "Roznica = 0.00000000000000011102\n",
      "i = 0.80000000000000004441\n",
      "x = 0.79999999999999993339\n",
      "Roznica = 0.00000000000000011102\n",
      "i = 0.90000000000000002220\n",
      "x = 0.89999999999999991118\n",
      "Roznica = 0.00000000000000011102\n",
      "i = 1.00000000000000000000\n",
      "x = 0.99999999999999988898\n",
      "Roznica = 0.00000000000000011102\n"
     ]
    }
   ],
   "source": [
    "#ZADANIE 2\n",
    "#Podaj procentowe roznice miedzy liczbami:\n",
    "#[0.  0.1 0.2 0.3 0.4 0.5 0.6 0.7 0.8 0.9 1. ] (efekt instrukcji print(np.arange(0,1.1,0.1)))\n",
    "#a liczbami rzeczywistymi (float32) generowanymi na biezaco poprzez iteracyjne sumowanie x=x+0.1 (w pierwszym kroku x=0).\n",
    "\n",
    "import numpy as np\n",
    "\n",
    "x=np.float32(0.0)\n",
    "\n",
    "for i in np.arange(0,1.1,0.1):\n",
    "    print(\"i = %.20f\" % i)\n",
    "    print(\"x = %.20f\" % x)\n",
    "    print(\"Roznica = %.20f\" % abs(x-i))\n",
    "    x=x+0.1"
   ]
  },
  {
   "cell_type": "code",
   "execution_count": 3,
   "metadata": {},
   "outputs": [
    {
     "name": "stdout",
     "output_type": "stream",
     "text": [
      "-0.000000\n",
      "120.000000\n",
      "0.250000\n",
      "0.893997\n"
     ]
    }
   ],
   "source": [
    "#ZADANIE 3\n",
    "#Napisz funkcje suma i funkcje iloczyn, ktora zwraca wynik sumy oraz iloczynu.\n",
    "#Funkcja ma posiadac nastepujace parametry: f – funkcja, xp – poczatek zakresu, xk – koniec zakresu, k – krok.\n",
    "#Przetestuj dzialanie funkcji dla zakresu xp=-3.14, xk = 3.14 i kroku 0.01.\n",
    "#Napisz wlasna funkcje realizujaca f(x)=1/x.\n",
    "#Podstaw ja do funkcji suma i iloczyn.\n",
    "#Podstaw rowniez funkcje f(x)=sin(x) (z biblioteki numpy: numpy.sin()).\n",
    "\n",
    "import numpy as np\n",
    "\n",
    "def suma(xp,xk,k):\n",
    "    wynik=0\n",
    "    while xp<=xk:\n",
    "        wynik=wynik+xp\n",
    "        xp=xp+k\n",
    "    return wynik\n",
    "\n",
    "def iloczyn(xp,xk,k):\n",
    "    wynik=1\n",
    "    while xp<=xk:\n",
    "        wynik=wynik*xp\n",
    "        xp=xp+k\n",
    "    return wynik\n",
    "\n",
    "def odwroc(x):\n",
    "    try:\n",
    "        wynik=1.0/x\n",
    "    except ZeroDivisionError:\n",
    "        wynik=0\n",
    "    return wynik\n",
    "\n",
    "def sinus(x):\n",
    "    return np.sin(x)\n",
    "   \n",
    "print(\"%f\" % suma(-3.14,3.14,0.01))\n",
    "print(\"%f\" % iloczyn(1,5,1))\n",
    "print(\"%f\" % odwroc(4))\n",
    "print(\"%f\" % sinus(90))"
   ]
  },
  {
   "cell_type": "code",
   "execution_count": 5,
   "metadata": {},
   "outputs": [
    {
     "data": {
      "image/png": "[encoded data removed]",
      "text/plain": [
       "<Figure size 432x288 with 1 Axes>"
      ]
     },
     "metadata": {
      "needs_background": "light"
     },
     "output_type": "display_data"
    }
   ],
   "source": [
    "#ZADANIE 4\n",
    "#Napisz funkcje rysuj, ktora umozliwi rysowanie wykresow funkcji przekazanych jako parametr.\n",
    "#Funkcja ma posiadac nastepujace parametry: f – funkcja, xp – poczatek zakresu, xk – koniec zakresu, k – krok.\n",
    "#Funkcja ma miec zaimplementowana pelna procedure rysowania przy uzyciu 'plot' (biblioteka matplotlib.pyplot).\n",
    "\n",
    "import matplotlib.pyplot as plt\n",
    "import numpy as np\n",
    "\n",
    "def funkcja(i):\n",
    "    return i**2\n",
    "\n",
    "def rysuj(f,xp,xk,k):\n",
    "    x=[i for i in np.arange(xp,xk,k)]\n",
    "    y=[f(i) for i in np.arange(xp,xk,k)]\n",
    "    plt.plot(x,y)\n",
    "    plt.ylabel('f(x)')\n",
    "    plt.xlabel('x')\n",
    "    plt.title('f(x)=x^2')\n",
    "    plt.show()\n",
    "    \n",
    "rysuj(funkcja,-2,2,0.1)"
   ]
  },
  {
   "cell_type": "code",
   "execution_count": 6,
   "metadata": {},
   "outputs": [
    {
     "data": {
      "image/png": "[encoded data removed]",
      "text/plain": [
       "<Figure size 432x288 with 1 Axes>"
      ]
     },
     "metadata": {
      "needs_background": "light"
     },
     "output_type": "display_data"
    }
   ],
   "source": [
    "#ZADANIE 5\n",
    "#Funkcje rysuj z zadania 4 wyposaz w parametr opcja=1.\n",
    "#Gdy opcja=1 to wlaczona jest siatka oraz kropki w punktach dla ktorych liczona byla funkcja.\n",
    "\n",
    "import matplotlib.pyplot as plt\n",
    "import numpy as np\n",
    "\n",
    "def funkcja(i):\n",
    "    return i**2\n",
    "\n",
    "def rysuj(f,xp,xk,k,opcja):\n",
    "    x=[i for i in np.arange(xp,xk,k)]\n",
    "    y=[f(i) for i in np.arange(xp,xk,k)]\n",
    "    plt.ylabel('f(x)')\n",
    "    plt.xlabel('x')\n",
    "    plt.title('f(x)=x^2')\n",
    "    if opcja==1:\n",
    "        plt.plot(x,y,'ro')\n",
    "        plt.grid(True)\n",
    "    else:\n",
    "        plt.plot(x,y)\n",
    "    plt.show()\n",
    "    \n",
    "rysuj(funkcja,-2,2,0.1,1)"
   ]
  },
  {
   "cell_type": "code",
   "execution_count": null,
   "metadata": {},
   "outputs": [],
   "source": []
  }
 ],
 "metadata": {
  "kernelspec": {
   "display_name": "Python 3",
   "language": "python",
   "name": "python3"
  },
  "language_info": {
   "codemirror_mode": {
    "name": "ipython",
    "version": 3
   },
   "file_extension": ".py",
   "mimetype": "text/x-python",
   "name": "python",
   "nbconvert_exporter": "python",
   "pygments_lexer": "ipython3",
   "version": "3.7.0"
  }
 },
 "nbformat": 4,
 "nbformat_minor": 2
}
